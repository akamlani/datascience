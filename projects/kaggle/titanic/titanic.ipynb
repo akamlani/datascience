{
 "cells": [
  {
   "cell_type": "code",
   "execution_count": 1,
   "metadata": {
    "collapsed": true
   },
   "outputs": [],
   "source": [
    "%matplotlib inline\n",
    "\n",
    "import numpy as np\n",
    "import pandas as pd\n",
    "import re\n",
    "\n",
    "import math\n",
    "from scipy import stats\n",
    "from sklearn import metrics\n",
    "from statsmodels.tools import eval_measures\n",
    "\n",
    "import seaborn as sns\n",
    "import matplotlib.pyplot as plt\n",
    "import matplotlib.gridspec as gs\n",
    "\n",
    "from sklearn.linear_model import LogisticRegression\n",
    "from sklearn.ensemble import RandomForestRegressor, RandomForestClassifier\n",
    "from sklearn.cross_validation import train_test_split, KFold\n",
    "from sklearn.metrics import roc_curve, auc\n",
    "from sklearn.decomposition import PCA\n",
    "from sklearn import grid_search\n",
    "\n",
    "from IPython.core.display import HTML\n",
    "from IPython.display import display\n",
    "pd.set_option('display.max_columns', 50)"
   ]
  },
  {
   "cell_type": "code",
   "execution_count": 2,
   "metadata": {
    "collapsed": false
   },
   "outputs": [
    {
     "name": "stdout",
     "output_type": "stream",
     "text": [
      "Training #Observations: 891, #Features: 12\n",
      "Test #Observations: 418, #Features: 11\n",
      "\n",
      "<class 'pandas.core.frame.DataFrame'>\n",
      "Int64Index: 891 entries, 0 to 890\n",
      "Data columns (total 12 columns):\n",
      "PassengerId    891 non-null int64\n",
      "Survived       891 non-null int64\n",
      "Pclass         891 non-null int64\n",
      "Name           891 non-null object\n",
      "Sex            891 non-null object\n",
      "Age            714 non-null float64\n",
      "SibSp          891 non-null int64\n",
      "Parch          891 non-null int64\n",
      "Ticket         891 non-null object\n",
      "Fare           891 non-null float64\n",
      "Cabin          204 non-null object\n",
      "Embarked       889 non-null object\n",
      "dtypes: float64(2), int64(5), object(5)\n",
      "memory usage: 90.5+ KB\n",
      "\n",
      "Training Data:\n"
     ]
    },
    {
     "data": {
      "text/html": [
       "<div>\n",
       "<table border=\"1\" class=\"dataframe\">\n",
       "  <thead>\n",
       "    <tr style=\"text-align: right;\">\n",
       "      <th></th>\n",
       "      <th>PassengerId</th>\n",
       "      <th>Survived</th>\n",
       "      <th>Pclass</th>\n",
       "      <th>Age</th>\n",
       "      <th>SibSp</th>\n",
       "      <th>Parch</th>\n",
       "      <th>Fare</th>\n",
       "    </tr>\n",
       "  </thead>\n",
       "  <tbody>\n",
       "    <tr>\n",
       "      <th>count</th>\n",
       "      <td>891.000000</td>\n",
       "      <td>891.000000</td>\n",
       "      <td>891.000000</td>\n",
       "      <td>714.000000</td>\n",
       "      <td>891.000000</td>\n",
       "      <td>891.000000</td>\n",
       "      <td>891.000000</td>\n",
       "    </tr>\n",
       "    <tr>\n",
       "      <th>mean</th>\n",
       "      <td>446.000000</td>\n",
       "      <td>0.383838</td>\n",
       "      <td>2.308642</td>\n",
       "      <td>29.699118</td>\n",
       "      <td>0.523008</td>\n",
       "      <td>0.381594</td>\n",
       "      <td>32.204208</td>\n",
       "    </tr>\n",
       "    <tr>\n",
       "      <th>std</th>\n",
       "      <td>257.353842</td>\n",
       "      <td>0.486592</td>\n",
       "      <td>0.836071</td>\n",
       "      <td>14.526497</td>\n",
       "      <td>1.102743</td>\n",
       "      <td>0.806057</td>\n",
       "      <td>49.693429</td>\n",
       "    </tr>\n",
       "    <tr>\n",
       "      <th>min</th>\n",
       "      <td>1.000000</td>\n",
       "      <td>0.000000</td>\n",
       "      <td>1.000000</td>\n",
       "      <td>0.420000</td>\n",
       "      <td>0.000000</td>\n",
       "      <td>0.000000</td>\n",
       "      <td>0.000000</td>\n",
       "    </tr>\n",
       "    <tr>\n",
       "      <th>25%</th>\n",
       "      <td>223.500000</td>\n",
       "      <td>0.000000</td>\n",
       "      <td>2.000000</td>\n",
       "      <td>20.125000</td>\n",
       "      <td>0.000000</td>\n",
       "      <td>0.000000</td>\n",
       "      <td>7.910400</td>\n",
       "    </tr>\n",
       "    <tr>\n",
       "      <th>50%</th>\n",
       "      <td>446.000000</td>\n",
       "      <td>0.000000</td>\n",
       "      <td>3.000000</td>\n",
       "      <td>28.000000</td>\n",
       "      <td>0.000000</td>\n",
       "      <td>0.000000</td>\n",
       "      <td>14.454200</td>\n",
       "    </tr>\n",
       "    <tr>\n",
       "      <th>75%</th>\n",
       "      <td>668.500000</td>\n",
       "      <td>1.000000</td>\n",
       "      <td>3.000000</td>\n",
       "      <td>38.000000</td>\n",
       "      <td>1.000000</td>\n",
       "      <td>0.000000</td>\n",
       "      <td>31.000000</td>\n",
       "    </tr>\n",
       "    <tr>\n",
       "      <th>max</th>\n",
       "      <td>891.000000</td>\n",
       "      <td>1.000000</td>\n",
       "      <td>3.000000</td>\n",
       "      <td>80.000000</td>\n",
       "      <td>8.000000</td>\n",
       "      <td>6.000000</td>\n",
       "      <td>512.329200</td>\n",
       "    </tr>\n",
       "  </tbody>\n",
       "</table>\n",
       "</div>"
      ],
      "text/plain": [
       "       PassengerId    Survived      Pclass         Age       SibSp  \\\n",
       "count   891.000000  891.000000  891.000000  714.000000  891.000000   \n",
       "mean    446.000000    0.383838    2.308642   29.699118    0.523008   \n",
       "std     257.353842    0.486592    0.836071   14.526497    1.102743   \n",
       "min       1.000000    0.000000    1.000000    0.420000    0.000000   \n",
       "25%     223.500000    0.000000    2.000000   20.125000    0.000000   \n",
       "50%     446.000000    0.000000    3.000000   28.000000    0.000000   \n",
       "75%     668.500000    1.000000    3.000000   38.000000    1.000000   \n",
       "max     891.000000    1.000000    3.000000   80.000000    8.000000   \n",
       "\n",
       "            Parch        Fare  \n",
       "count  891.000000  891.000000  \n",
       "mean     0.381594   32.204208  \n",
       "std      0.806057   49.693429  \n",
       "min      0.000000    0.000000  \n",
       "25%      0.000000    7.910400  \n",
       "50%      0.000000   14.454200  \n",
       "75%      0.000000   31.000000  \n",
       "max      6.000000  512.329200  "
      ]
     },
     "metadata": {},
     "output_type": "display_data"
    },
    {
     "name": "stdout",
     "output_type": "stream",
     "text": [
      "Test Data:\n"
     ]
    },
    {
     "data": {
      "text/html": [
       "<div>\n",
       "<table border=\"1\" class=\"dataframe\">\n",
       "  <thead>\n",
       "    <tr style=\"text-align: right;\">\n",
       "      <th></th>\n",
       "      <th>PassengerId</th>\n",
       "      <th>Pclass</th>\n",
       "      <th>Age</th>\n",
       "      <th>SibSp</th>\n",
       "      <th>Parch</th>\n",
       "      <th>Fare</th>\n",
       "    </tr>\n",
       "  </thead>\n",
       "  <tbody>\n",
       "    <tr>\n",
       "      <th>count</th>\n",
       "      <td>418.000000</td>\n",
       "      <td>418.000000</td>\n",
       "      <td>332.000000</td>\n",
       "      <td>418.000000</td>\n",
       "      <td>418.000000</td>\n",
       "      <td>417.000000</td>\n",
       "    </tr>\n",
       "    <tr>\n",
       "      <th>mean</th>\n",
       "      <td>1100.500000</td>\n",
       "      <td>2.265550</td>\n",
       "      <td>30.272590</td>\n",
       "      <td>0.447368</td>\n",
       "      <td>0.392344</td>\n",
       "      <td>35.627188</td>\n",
       "    </tr>\n",
       "    <tr>\n",
       "      <th>std</th>\n",
       "      <td>120.810458</td>\n",
       "      <td>0.841838</td>\n",
       "      <td>14.181209</td>\n",
       "      <td>0.896760</td>\n",
       "      <td>0.981429</td>\n",
       "      <td>55.907576</td>\n",
       "    </tr>\n",
       "    <tr>\n",
       "      <th>min</th>\n",
       "      <td>892.000000</td>\n",
       "      <td>1.000000</td>\n",
       "      <td>0.170000</td>\n",
       "      <td>0.000000</td>\n",
       "      <td>0.000000</td>\n",
       "      <td>0.000000</td>\n",
       "    </tr>\n",
       "    <tr>\n",
       "      <th>25%</th>\n",
       "      <td>996.250000</td>\n",
       "      <td>1.000000</td>\n",
       "      <td>21.000000</td>\n",
       "      <td>0.000000</td>\n",
       "      <td>0.000000</td>\n",
       "      <td>7.895800</td>\n",
       "    </tr>\n",
       "    <tr>\n",
       "      <th>50%</th>\n",
       "      <td>1100.500000</td>\n",
       "      <td>3.000000</td>\n",
       "      <td>27.000000</td>\n",
       "      <td>0.000000</td>\n",
       "      <td>0.000000</td>\n",
       "      <td>14.454200</td>\n",
       "    </tr>\n",
       "    <tr>\n",
       "      <th>75%</th>\n",
       "      <td>1204.750000</td>\n",
       "      <td>3.000000</td>\n",
       "      <td>39.000000</td>\n",
       "      <td>1.000000</td>\n",
       "      <td>0.000000</td>\n",
       "      <td>31.500000</td>\n",
       "    </tr>\n",
       "    <tr>\n",
       "      <th>max</th>\n",
       "      <td>1309.000000</td>\n",
       "      <td>3.000000</td>\n",
       "      <td>76.000000</td>\n",
       "      <td>8.000000</td>\n",
       "      <td>9.000000</td>\n",
       "      <td>512.329200</td>\n",
       "    </tr>\n",
       "  </tbody>\n",
       "</table>\n",
       "</div>"
      ],
      "text/plain": [
       "       PassengerId      Pclass         Age       SibSp       Parch        Fare\n",
       "count   418.000000  418.000000  332.000000  418.000000  418.000000  417.000000\n",
       "mean   1100.500000    2.265550   30.272590    0.447368    0.392344   35.627188\n",
       "std     120.810458    0.841838   14.181209    0.896760    0.981429   55.907576\n",
       "min     892.000000    1.000000    0.170000    0.000000    0.000000    0.000000\n",
       "25%     996.250000    1.000000   21.000000    0.000000    0.000000    7.895800\n",
       "50%    1100.500000    3.000000   27.000000    0.000000    0.000000   14.454200\n",
       "75%    1204.750000    3.000000   39.000000    1.000000    0.000000   31.500000\n",
       "max    1309.000000    3.000000   76.000000    8.000000    9.000000  512.329200"
      ]
     },
     "metadata": {},
     "output_type": "display_data"
    },
    {
     "name": "stdout",
     "output_type": "stream",
     "text": [
      "Training Data:\n"
     ]
    },
    {
     "data": {
      "text/html": [
       "<div>\n",
       "<table border=\"1\" class=\"dataframe\">\n",
       "  <thead>\n",
       "    <tr style=\"text-align: right;\">\n",
       "      <th></th>\n",
       "      <th>PassengerId</th>\n",
       "      <th>Survived</th>\n",
       "      <th>Pclass</th>\n",
       "      <th>Name</th>\n",
       "      <th>Sex</th>\n",
       "      <th>Age</th>\n",
       "      <th>SibSp</th>\n",
       "      <th>Parch</th>\n",
       "      <th>Ticket</th>\n",
       "      <th>Fare</th>\n",
       "      <th>Cabin</th>\n",
       "      <th>Embarked</th>\n",
       "    </tr>\n",
       "  </thead>\n",
       "  <tbody>\n",
       "    <tr>\n",
       "      <th>0</th>\n",
       "      <td>1</td>\n",
       "      <td>0</td>\n",
       "      <td>3</td>\n",
       "      <td>Braund, Mr. Owen Harris</td>\n",
       "      <td>male</td>\n",
       "      <td>22</td>\n",
       "      <td>1</td>\n",
       "      <td>0</td>\n",
       "      <td>A/5 21171</td>\n",
       "      <td>7.2500</td>\n",
       "      <td>NaN</td>\n",
       "      <td>S</td>\n",
       "    </tr>\n",
       "    <tr>\n",
       "      <th>1</th>\n",
       "      <td>2</td>\n",
       "      <td>1</td>\n",
       "      <td>1</td>\n",
       "      <td>Cumings, Mrs. John Bradley (Florence Briggs Th...</td>\n",
       "      <td>female</td>\n",
       "      <td>38</td>\n",
       "      <td>1</td>\n",
       "      <td>0</td>\n",
       "      <td>PC 17599</td>\n",
       "      <td>71.2833</td>\n",
       "      <td>C85</td>\n",
       "      <td>C</td>\n",
       "    </tr>\n",
       "    <tr>\n",
       "      <th>2</th>\n",
       "      <td>3</td>\n",
       "      <td>1</td>\n",
       "      <td>3</td>\n",
       "      <td>Heikkinen, Miss. Laina</td>\n",
       "      <td>female</td>\n",
       "      <td>26</td>\n",
       "      <td>0</td>\n",
       "      <td>0</td>\n",
       "      <td>STON/O2. 3101282</td>\n",
       "      <td>7.9250</td>\n",
       "      <td>NaN</td>\n",
       "      <td>S</td>\n",
       "    </tr>\n",
       "    <tr>\n",
       "      <th>3</th>\n",
       "      <td>4</td>\n",
       "      <td>1</td>\n",
       "      <td>1</td>\n",
       "      <td>Futrelle, Mrs. Jacques Heath (Lily May Peel)</td>\n",
       "      <td>female</td>\n",
       "      <td>35</td>\n",
       "      <td>1</td>\n",
       "      <td>0</td>\n",
       "      <td>113803</td>\n",
       "      <td>53.1000</td>\n",
       "      <td>C123</td>\n",
       "      <td>S</td>\n",
       "    </tr>\n",
       "    <tr>\n",
       "      <th>4</th>\n",
       "      <td>5</td>\n",
       "      <td>0</td>\n",
       "      <td>3</td>\n",
       "      <td>Allen, Mr. William Henry</td>\n",
       "      <td>male</td>\n",
       "      <td>35</td>\n",
       "      <td>0</td>\n",
       "      <td>0</td>\n",
       "      <td>373450</td>\n",
       "      <td>8.0500</td>\n",
       "      <td>NaN</td>\n",
       "      <td>S</td>\n",
       "    </tr>\n",
       "  </tbody>\n",
       "</table>\n",
       "</div>"
      ],
      "text/plain": [
       "   PassengerId  Survived  Pclass  \\\n",
       "0            1         0       3   \n",
       "1            2         1       1   \n",
       "2            3         1       3   \n",
       "3            4         1       1   \n",
       "4            5         0       3   \n",
       "\n",
       "                                                Name     Sex  Age  SibSp  \\\n",
       "0                            Braund, Mr. Owen Harris    male   22      1   \n",
       "1  Cumings, Mrs. John Bradley (Florence Briggs Th...  female   38      1   \n",
       "2                             Heikkinen, Miss. Laina  female   26      0   \n",
       "3       Futrelle, Mrs. Jacques Heath (Lily May Peel)  female   35      1   \n",
       "4                           Allen, Mr. William Henry    male   35      0   \n",
       "\n",
       "   Parch            Ticket     Fare Cabin Embarked  \n",
       "0      0         A/5 21171   7.2500   NaN        S  \n",
       "1      0          PC 17599  71.2833   C85        C  \n",
       "2      0  STON/O2. 3101282   7.9250   NaN        S  \n",
       "3      0            113803  53.1000  C123        S  \n",
       "4      0            373450   8.0500   NaN        S  "
      ]
     },
     "metadata": {},
     "output_type": "display_data"
    }
   ],
   "source": [
    "# read in csv data and describe the data\n",
    "df_train = pd.read_csv('data/train.csv')\n",
    "df_test = pd.read_csv('data/test.csv')\n",
    "n_samples, n_features = df_train.shape\n",
    "n_test_samples, n_test_features = df_test.shape\n",
    "print \"Training #Observations: {0}, #Features: {1}\".format(n_samples, n_features)\n",
    "print \"Test #Observations: {0}, #Features: {1}\\n\".format(n_test_samples, n_test_features)\n",
    "df_train.info()\n",
    "print \"\\nTraining Data:\"; display(df_train.describe())\n",
    "print \"Test Data:\"; display(df_test.describe())\n",
    "print \"Training Data:\"; display(df_train.head())"
   ]
  },
  {
   "cell_type": "code",
   "execution_count": 3,
   "metadata": {
    "collapsed": false
   },
   "outputs": [
    {
     "data": {
      "text/html": [
       "<div>\n",
       "<table border=\"1\" class=\"dataframe\">\n",
       "  <thead>\n",
       "    <tr style=\"text-align: right;\">\n",
       "      <th></th>\n",
       "      <th>PassengerId</th>\n",
       "      <th>Survived</th>\n",
       "      <th>Pclass</th>\n",
       "      <th>Name</th>\n",
       "      <th>Sex</th>\n",
       "      <th>Age</th>\n",
       "      <th>SibSp</th>\n",
       "      <th>Parch</th>\n",
       "      <th>Ticket</th>\n",
       "      <th>Fare</th>\n",
       "      <th>Cabin</th>\n",
       "      <th>Embarked</th>\n",
       "      <th>Person</th>\n",
       "      <th>Title</th>\n",
       "      <th>FamilySize</th>\n",
       "      <th>Deck</th>\n",
       "    </tr>\n",
       "  </thead>\n",
       "  <tbody>\n",
       "    <tr>\n",
       "      <th>0</th>\n",
       "      <td>1</td>\n",
       "      <td>0</td>\n",
       "      <td>3</td>\n",
       "      <td>Braund, Mr. Owen Harris</td>\n",
       "      <td>male</td>\n",
       "      <td>22</td>\n",
       "      <td>1</td>\n",
       "      <td>0</td>\n",
       "      <td>A/5 21171</td>\n",
       "      <td>7.2500</td>\n",
       "      <td>NaN</td>\n",
       "      <td>S</td>\n",
       "      <td>male</td>\n",
       "      <td>mr.</td>\n",
       "      <td>WithFamily</td>\n",
       "      <td>U</td>\n",
       "    </tr>\n",
       "    <tr>\n",
       "      <th>1</th>\n",
       "      <td>2</td>\n",
       "      <td>1</td>\n",
       "      <td>1</td>\n",
       "      <td>Cumings, Mrs. John Bradley (Florence Briggs Th...</td>\n",
       "      <td>female</td>\n",
       "      <td>38</td>\n",
       "      <td>1</td>\n",
       "      <td>0</td>\n",
       "      <td>PC 17599</td>\n",
       "      <td>71.2833</td>\n",
       "      <td>C85</td>\n",
       "      <td>C</td>\n",
       "      <td>female</td>\n",
       "      <td>mrs.</td>\n",
       "      <td>WithFamily</td>\n",
       "      <td>C</td>\n",
       "    </tr>\n",
       "    <tr>\n",
       "      <th>2</th>\n",
       "      <td>3</td>\n",
       "      <td>1</td>\n",
       "      <td>3</td>\n",
       "      <td>Heikkinen, Miss. Laina</td>\n",
       "      <td>female</td>\n",
       "      <td>26</td>\n",
       "      <td>0</td>\n",
       "      <td>0</td>\n",
       "      <td>STON/O2. 3101282</td>\n",
       "      <td>7.9250</td>\n",
       "      <td>NaN</td>\n",
       "      <td>S</td>\n",
       "      <td>female</td>\n",
       "      <td>miss.</td>\n",
       "      <td>Alone</td>\n",
       "      <td>U</td>\n",
       "    </tr>\n",
       "    <tr>\n",
       "      <th>3</th>\n",
       "      <td>4</td>\n",
       "      <td>1</td>\n",
       "      <td>1</td>\n",
       "      <td>Futrelle, Mrs. Jacques Heath (Lily May Peel)</td>\n",
       "      <td>female</td>\n",
       "      <td>35</td>\n",
       "      <td>1</td>\n",
       "      <td>0</td>\n",
       "      <td>113803</td>\n",
       "      <td>53.1000</td>\n",
       "      <td>C123</td>\n",
       "      <td>S</td>\n",
       "      <td>female</td>\n",
       "      <td>mrs.</td>\n",
       "      <td>WithFamily</td>\n",
       "      <td>C</td>\n",
       "    </tr>\n",
       "    <tr>\n",
       "      <th>4</th>\n",
       "      <td>5</td>\n",
       "      <td>0</td>\n",
       "      <td>3</td>\n",
       "      <td>Allen, Mr. William Henry</td>\n",
       "      <td>male</td>\n",
       "      <td>35</td>\n",
       "      <td>0</td>\n",
       "      <td>0</td>\n",
       "      <td>373450</td>\n",
       "      <td>8.0500</td>\n",
       "      <td>NaN</td>\n",
       "      <td>S</td>\n",
       "      <td>male</td>\n",
       "      <td>mr.</td>\n",
       "      <td>Alone</td>\n",
       "      <td>U</td>\n",
       "    </tr>\n",
       "  </tbody>\n",
       "</table>\n",
       "</div>"
      ],
      "text/plain": [
       "   PassengerId  Survived  Pclass  \\\n",
       "0            1         0       3   \n",
       "1            2         1       1   \n",
       "2            3         1       3   \n",
       "3            4         1       1   \n",
       "4            5         0       3   \n",
       "\n",
       "                                                Name     Sex  Age  SibSp  \\\n",
       "0                            Braund, Mr. Owen Harris    male   22      1   \n",
       "1  Cumings, Mrs. John Bradley (Florence Briggs Th...  female   38      1   \n",
       "2                             Heikkinen, Miss. Laina  female   26      0   \n",
       "3       Futrelle, Mrs. Jacques Heath (Lily May Peel)  female   35      1   \n",
       "4                           Allen, Mr. William Henry    male   35      0   \n",
       "\n",
       "   Parch            Ticket     Fare Cabin Embarked  Person  Title  FamilySize  \\\n",
       "0      0         A/5 21171   7.2500   NaN        S    male    mr.  WithFamily   \n",
       "1      0          PC 17599  71.2833   C85        C  female   mrs.  WithFamily   \n",
       "2      0  STON/O2. 3101282   7.9250   NaN        S  female  miss.       Alone   \n",
       "3      0            113803  53.1000  C123        S  female   mrs.  WithFamily   \n",
       "4      0            373450   8.0500   NaN        S    male    mr.       Alone   \n",
       "\n",
       "  Deck  \n",
       "0    U  \n",
       "1    C  \n",
       "2    U  \n",
       "3    C  \n",
       "4    U  "
      ]
     },
     "execution_count": 3,
     "metadata": {},
     "output_type": "execute_result"
    }
   ],
   "source": [
    "# Initial Feature Engineering\n",
    "# extract information/create new features for visualization\n",
    "# Possible to have Multiple Cabin Decks\n",
    "def extract_deck(df):\n",
    "    if pd.notnull(df.Cabin):\n",
    "        cabins = df.Cabin.split()\n",
    "        for c in cabins: \n",
    "            df['Deck_' + str(c[0])] = int(1) \n",
    "            df['Deck'] = str(c[0])\n",
    "    else:\n",
    "        df['Deck'] = 'U'\n",
    "        df['Deck_' + 'U'] = int(1)\n",
    "    return df\n",
    "def create_deck_matrix(df):\n",
    "    #print \"# Cabin Occurences: \", df.Cabin[df.Cabin.notnull()].count()\n",
    "    #deck_subset = ['Deck_' + i for i in ['A','B','C','D','E','F','G','T','U']]\n",
    "    df_deck = df.apply(extract_deck, axis=1) \n",
    "    deck_subset = [m.group(0) for l in list(df_deck.columns) for m in [re.compile(\"(Deck_).*\").search(l)] if m]\n",
    "    df_deck[deck_subset] = df_deck[deck_subset].fillna(0)\n",
    "    return df_deck[deck_subset + ['Deck']], deck_subset\n",
    "# Titles\n",
    "def extract_title(df):\n",
    "    names_indices = df.Name.split(\",\")\n",
    "    title_name = names_indices[1].lstrip().split(\".\")\n",
    "    df[\"Title\"] = title_name[0].lower() + \".\"\n",
    "    return df\n",
    "\n",
    "# Map Categorical to Numerical\n",
    "def map_features(df):\n",
    "    mappings = ['Embarked', 'Person', 'FamilySize', 'Title', 'Deck']\n",
    "    df_mapping = df.copy()\n",
    "    for m in mappings:\n",
    "        mappings_dict = {name: i for i, name in list(enumerate(np.unique(df[m])))}\n",
    "        df_mapping[m] = df[m].map(lambda x: mappings_dict[x])\n",
    "    return df_mapping\n",
    "# Convert features to binary dummy matrix\n",
    "def map_features_dummies(df):\n",
    "    mappings = ['Embarked', 'Person', 'FamilySize', 'Title', 'Deck']\n",
    "    df_mapping = df.copy()\n",
    "    df_title  = pd.get_dummies(df_mapping.Title,      prefix='Title')\n",
    "    df_person = pd.get_dummies(df_mapping.Person,     prefix='Person')\n",
    "    df_family = pd.get_dummies(df_mapping.FamilySize, prefix='FamilySize')\n",
    "    df_embark = pd.get_dummies(df_mapping.Embarked,   prefix='Embarked')\n",
    "    df_deck   = pd.get_dummies(df_mapping.Deck,       prefix='Deck')\n",
    "    df_comb = pd.concat([df_title, df_person, df_family, df_deck, df_embark, df_mapping], axis=1)\n",
    "    return df_comb\n",
    "\n",
    "\n",
    "def create_features(df):\n",
    "    df['Person'] = df[['Age', 'Sex']].apply(lambda x: 'child' if x.Age < 16 else x.Sex, axis=1) \n",
    "    df = df.apply(extract_title, axis=1) \n",
    "    df['FamilySize'] = df.SibSp + df.Parch\n",
    "    df['FamilySize'] = df['FamilySize'].map(lambda x: 'Alone' if x == 0 else 'WithFamily' )\n",
    "    df_deck, deck_labels = create_deck_matrix(df)\n",
    "    df['Deck'] = df_deck['Deck']\n",
    "    return df, df_deck, deck_labels\n",
    "\n",
    "df_train, df_train_decks, train_deck_labels = create_features(df_train)\n",
    "df_test,  df_test_decks,  test_deck_labels  = create_features(df_test)\n",
    "df_train.head()"
   ]
  },
  {
   "cell_type": "markdown",
   "metadata": {},
   "source": [
    "## Exploratory Analysis"
   ]
  },
  {
   "cell_type": "code",
   "execution_count": 4,
   "metadata": {
    "collapsed": false
   },
   "outputs": [
    {
     "data": {
      "text/plain": [
       "<seaborn.axisgrid.FacetGrid at 0x10a4896d0>"
      ]
     },
     "execution_count": 4,
     "metadata": {},
     "output_type": "execute_result"
    },
    {
     "data": {
      "image/png": "[encoded data removed]",
      "text/plain": [
       "<matplotlib.figure.Figure at 0x1098bcb10>"
      ]
     },
     "metadata": {},
     "output_type": "display_data"
    },
    {
     "data": {
      "image/png": "[encoded data removed]",
      "text/plain": [
       "<matplotlib.figure.Figure at 0x10a2c0850>"
      ]
     },
     "metadata": {},
     "output_type": "display_data"
    },
    {
     "data": {
      "image/png": "[encoded data removed]",
      "text/plain": [
       "<matplotlib.figure.Figure at 0x10a489490>"
      ]
     },
     "metadata": {},
     "output_type": "display_data"
    }
   ],
   "source": [
    "# Age Distribution --- explore/visualize the given data\n",
    "gs1  = gs.GridSpec(1,2)\n",
    "fig = plt.figure(figsize=(15,4)) \n",
    "ax1 = fig.add_subplot(gs1[0:1,0])\n",
    "ax2 = fig.add_subplot(gs1[0:1,1])\n",
    "sns.boxplot(df_train.Age, df_train.Person, ax=ax1)\n",
    "sns.kdeplot(df_train.Age, shade=True, ax=ax2)\n",
    "\n",
    "# Age by Class - continue with visualization \n",
    "f1 = sns.FacetGrid(df_train, hue='Pclass', hue_order=[1,2,3], aspect=3)\n",
    "f1.map(sns.kdeplot, 'Age', shade=True)\n",
    "f1.set(xlim=(0, df_train['Age'].max() ))\n",
    "f1.add_legend()\n",
    "# Age via Person\n",
    "f2 = sns.FacetGrid(df_train, hue='Person', aspect=3)\n",
    "f2.map(sns.kdeplot, 'Age', shade=True)\n",
    "f2.set(xlim=(0, df_train['Age'].max() ))\n",
    "f2.add_legend()"
   ]
  },
  {
   "cell_type": "code",
   "execution_count": 5,
   "metadata": {
    "collapsed": false
   },
   "outputs": [
    {
     "name": "stdout",
     "output_type": "stream",
     "text": [
      "Pclass vs Age Statstics:\n"
     ]
    },
    {
     "data": {
      "text/html": [
       "<div>\n",
       "<table border=\"1\" class=\"dataframe\">\n",
       "  <thead>\n",
       "    <tr style=\"text-align: right;\">\n",
       "      <th>Age</th>\n",
       "      <th>Mean</th>\n",
       "      <th>Median</th>\n",
       "      <th>STD</th>\n",
       "      <th>Mode</th>\n",
       "    </tr>\n",
       "    <tr>\n",
       "      <th>Pclass</th>\n",
       "      <th></th>\n",
       "      <th></th>\n",
       "      <th></th>\n",
       "      <th></th>\n",
       "    </tr>\n",
       "  </thead>\n",
       "  <tbody>\n",
       "    <tr>\n",
       "      <th>1</th>\n",
       "      <td>38.233441</td>\n",
       "      <td>37</td>\n",
       "      <td>14.802856</td>\n",
       "      <td>([35.0], [9])</td>\n",
       "    </tr>\n",
       "    <tr>\n",
       "      <th>2</th>\n",
       "      <td>29.877630</td>\n",
       "      <td>29</td>\n",
       "      <td>14.001077</td>\n",
       "      <td>([24.0], [10])</td>\n",
       "    </tr>\n",
       "    <tr>\n",
       "      <th>3</th>\n",
       "      <td>25.140620</td>\n",
       "      <td>24</td>\n",
       "      <td>12.495398</td>\n",
       "      <td>([22.0], [20])</td>\n",
       "    </tr>\n",
       "  </tbody>\n",
       "</table>\n",
       "</div>"
      ],
      "text/plain": [
       "Age          Mean  Median        STD            Mode\n",
       "Pclass                                              \n",
       "1       38.233441      37  14.802856   ([35.0], [9])\n",
       "2       29.877630      29  14.001077  ([24.0], [10])\n",
       "3       25.140620      24  12.495398  ([22.0], [20])"
      ]
     },
     "execution_count": 5,
     "metadata": {},
     "output_type": "execute_result"
    }
   ],
   "source": [
    "# Further Breakdown the Age vs Class Category\n",
    "print \"Pclass vs Age Statstics:\"\n",
    "summary = pd.DataFrame(df_train.pivot_table(values='Age', columns='Pclass', aggfunc=np.mean))\n",
    "summary.rename(columns={'Age':'Mean'}, inplace=True)\n",
    "summary[\"Median\"] = df_train.pivot_table(values='Age', columns='Pclass', aggfunc=np.median) \n",
    "summary[\"STD\"] = df_train.pivot_table(values='Age', columns='Pclass', aggfunc=np.std)\n",
    "summary[\"Mode\"] = df_train.pivot_table(values='Age', columns='Pclass', aggfunc=stats.mode) \n",
    "summary.columns.name = \"Age\"\n",
    "summary"
   ]
  },
  {
   "cell_type": "code",
   "execution_count": 6,
   "metadata": {
    "collapsed": false
   },
   "outputs": [
    {
     "data": {
      "text/plain": [
       "<seaborn.axisgrid.FacetGrid at 0x109afb990>"
      ]
     },
     "execution_count": 6,
     "metadata": {},
     "output_type": "execute_result"
    },
    {
     "data": {
      "image/png": "[encoded data removed]",
      "text/plain": [
       "<matplotlib.figure.Figure at 0x109688650>"
      ]
     },
     "metadata": {},
     "output_type": "display_data"
    },
    {
     "data": {
      "image/png": "[encoded data removed]",
      "text/plain": [
       "<matplotlib.figure.Figure at 0x10b1de450>"
      ]
     },
     "metadata": {},
     "output_type": "display_data"
    }
   ],
   "source": [
    "# Survival --- explore/visualize\n",
    "gs2  = gs.GridSpec(2,3)\n",
    "fig = plt.figure(figsize=(15,8)) \n",
    "ax1 = fig.add_subplot(gs2[0:1,0])\n",
    "ax2 = fig.add_subplot(gs2[0:1,1])\n",
    "ax3 = fig.add_subplot(gs2[0:1,2])\n",
    "ax4 = fig.add_subplot(gs2[1:2,0])\n",
    "ax5 = fig.add_subplot(gs2[1:2,1])\n",
    "ax6 = fig.add_subplot(gs2[1:2,2])\n",
    "\n",
    "sns.countplot(x='Survived', data=df_train, ax=ax1)\n",
    "sns.boxplot(df_train.Survived, df_train.Age, ax=ax2)\n",
    "sns.barplot(x='FamilySize', y='Survived', data=df_train, ax=ax3)\n",
    "sns.barplot(x=\"Person\", y=\"Survived\", hue=\"Pclass\", hue_order=[1,2,3], data=df_train, ax=ax4)\n",
    "sns.barplot(x=\"Person\", y=\"Survived\", hue=\"Embarked\", hue_order=['C','Q','S'], data=df_train, ax=ax5)\n",
    "sns.barplot(y=\"Title\", x=\"Survived\", data=df_train, ax=ax6)\n",
    "sns.factorplot(x=\"Embarked\", hue='Pclass', order=['C','Q','S'], hue_order=[1,2,3], kind='count', data=df_train)"
   ]
  },
  {
   "cell_type": "code",
   "execution_count": 7,
   "metadata": {
    "collapsed": false
   },
   "outputs": [
    {
     "name": "stdout",
     "output_type": "stream",
     "text": [
      "Deck Summary\n"
     ]
    },
    {
     "data": {
      "text/html": [
       "<div>\n",
       "<table border=\"1\" class=\"dataframe\">\n",
       "  <thead>\n",
       "    <tr style=\"text-align: right;\">\n",
       "      <th></th>\n",
       "      <th>Deck_A</th>\n",
       "      <th>Deck_B</th>\n",
       "      <th>Deck_C</th>\n",
       "      <th>Deck_D</th>\n",
       "      <th>Deck_E</th>\n",
       "      <th>Deck_F</th>\n",
       "      <th>Deck_G</th>\n",
       "      <th>Deck_T</th>\n",
       "      <th>Deck_U</th>\n",
       "    </tr>\n",
       "  </thead>\n",
       "  <tbody>\n",
       "    <tr>\n",
       "      <th>distribution</th>\n",
       "      <td>15</td>\n",
       "      <td>47</td>\n",
       "      <td>59</td>\n",
       "      <td>33</td>\n",
       "      <td>33</td>\n",
       "      <td>13</td>\n",
       "      <td>7</td>\n",
       "      <td>1</td>\n",
       "      <td>687</td>\n",
       "    </tr>\n",
       "    <tr>\n",
       "      <th>survival</th>\n",
       "      <td>7</td>\n",
       "      <td>35</td>\n",
       "      <td>35</td>\n",
       "      <td>25</td>\n",
       "      <td>25</td>\n",
       "      <td>8</td>\n",
       "      <td>2</td>\n",
       "      <td>0</td>\n",
       "      <td>206</td>\n",
       "    </tr>\n",
       "  </tbody>\n",
       "</table>\n",
       "</div>"
      ],
      "text/plain": [
       "              Deck_A  Deck_B  Deck_C  Deck_D  Deck_E  Deck_F  Deck_G  Deck_T  \\\n",
       "distribution      15      47      59      33      33      13       7       1   \n",
       "survival           7      35      35      25      25       8       2       0   \n",
       "\n",
       "              Deck_U  \n",
       "distribution     687  \n",
       "survival         206  "
      ]
     },
     "metadata": {},
     "output_type": "display_data"
    },
    {
     "name": "stdout",
     "output_type": "stream",
     "text": [
      "Occurences of Multiple Deck Distribution\n"
     ]
    },
    {
     "data": {
      "text/html": [
       "<div>\n",
       "<table border=\"1\" class=\"dataframe\">\n",
       "  <thead>\n",
       "    <tr style=\"text-align: right;\">\n",
       "      <th></th>\n",
       "      <th>Deck_A</th>\n",
       "      <th>Deck_B</th>\n",
       "      <th>Deck_C</th>\n",
       "      <th>Deck_D</th>\n",
       "      <th>Deck_E</th>\n",
       "      <th>Deck_F</th>\n",
       "      <th>Deck_G</th>\n",
       "      <th>Deck_T</th>\n",
       "      <th>Deck_U</th>\n",
       "      <th>Survived</th>\n",
       "      <th>FamilySize</th>\n",
       "    </tr>\n",
       "  </thead>\n",
       "  <tbody>\n",
       "    <tr>\n",
       "      <th>75</th>\n",
       "      <td>0</td>\n",
       "      <td>0</td>\n",
       "      <td>0</td>\n",
       "      <td>0</td>\n",
       "      <td>0</td>\n",
       "      <td>1</td>\n",
       "      <td>1</td>\n",
       "      <td>0</td>\n",
       "      <td>0</td>\n",
       "      <td>0</td>\n",
       "      <td>Alone</td>\n",
       "    </tr>\n",
       "    <tr>\n",
       "      <th>128</th>\n",
       "      <td>0</td>\n",
       "      <td>0</td>\n",
       "      <td>0</td>\n",
       "      <td>0</td>\n",
       "      <td>1</td>\n",
       "      <td>1</td>\n",
       "      <td>0</td>\n",
       "      <td>0</td>\n",
       "      <td>0</td>\n",
       "      <td>1</td>\n",
       "      <td>WithFamily</td>\n",
       "    </tr>\n",
       "    <tr>\n",
       "      <th>699</th>\n",
       "      <td>0</td>\n",
       "      <td>0</td>\n",
       "      <td>0</td>\n",
       "      <td>0</td>\n",
       "      <td>0</td>\n",
       "      <td>1</td>\n",
       "      <td>1</td>\n",
       "      <td>0</td>\n",
       "      <td>0</td>\n",
       "      <td>0</td>\n",
       "      <td>Alone</td>\n",
       "    </tr>\n",
       "    <tr>\n",
       "      <th>715</th>\n",
       "      <td>0</td>\n",
       "      <td>0</td>\n",
       "      <td>0</td>\n",
       "      <td>0</td>\n",
       "      <td>0</td>\n",
       "      <td>1</td>\n",
       "      <td>1</td>\n",
       "      <td>0</td>\n",
       "      <td>0</td>\n",
       "      <td>0</td>\n",
       "      <td>Alone</td>\n",
       "    </tr>\n",
       "  </tbody>\n",
       "</table>\n",
       "</div>"
      ],
      "text/plain": [
       "     Deck_A  Deck_B  Deck_C  Deck_D  Deck_E  Deck_F  Deck_G  Deck_T  Deck_U  \\\n",
       "75        0       0       0       0       0       1       1       0       0   \n",
       "128       0       0       0       0       1       1       0       0       0   \n",
       "699       0       0       0       0       0       1       1       0       0   \n",
       "715       0       0       0       0       0       1       1       0       0   \n",
       "\n",
       "     Survived  FamilySize  \n",
       "75          0       Alone  \n",
       "128         1  WithFamily  \n",
       "699         0       Alone  \n",
       "715         0       Alone  "
      ]
     },
     "execution_count": 7,
     "metadata": {},
     "output_type": "execute_result"
    },
    {
     "data": {
      "image/png": "[encoded data removed]",
      "text/plain": [
       "<matplotlib.figure.Figure at 0x109cf0210>"
      ]
     },
     "metadata": {},
     "output_type": "display_data"
    }
   ],
   "source": [
    "# Cabin Occurences (Cabin_U = Undefined, Cabin_T = N/A)\n",
    "# Separate Attributes in case of circumstances of multiple different cabins per a particular observation\n",
    "gs3  = gs.GridSpec(1,2)\n",
    "fig = plt.figure(figsize=(15,5))\n",
    "ax1 = fig.add_subplot(gs3[0:1,0])\n",
    "ax2 = fig.add_subplot(gs3[0:1,1])\n",
    "deck_labels = [cab[1] for cab in [x.split(\"_\") for x in list(df_train_decks.columns)] if len(cab)>1]\n",
    "sns.countplot(x='Deck', data=df_train, order=deck_labels, ax=ax1)\n",
    "sns.barplot(x='Deck', y='Survived', data=df_train, order=deck_labels, ax=ax2)\n",
    "# Deck Summary\n",
    "print \"Deck Summary\"\n",
    "df_train_decksi = pd.concat([df_train, df_train_decks[train_deck_labels]],axis=1)\n",
    "df_deck_summary = pd.DataFrame(df_train_decks[train_deck_labels].sum()).T\n",
    "df_deck_summary = df_deck_summary.append(df_train_decksi[df_train_decksi.Survived==1][train_deck_labels].sum(), ignore_index=True)\n",
    "df_deck_summary.index = [\"distribution\", \"survival\"]\n",
    "display(df_deck_summary)\n",
    "# Multiple Decks Allocation\n",
    "print \"Occurences of Multiple Deck Distribution\"\n",
    "df_train_decksi[df_train_decksi[train_deck_labels].sum(axis=1) > 1][train_deck_labels + ['Survived', 'FamilySize']]"
   ]
  },
  {
   "cell_type": "code",
   "execution_count": 8,
   "metadata": {
    "collapsed": false
   },
   "outputs": [
    {
     "name": "stdout",
     "output_type": "stream",
     "text": [
      "Median Passenger Class Fare\n"
     ]
    },
    {
     "data": {
      "text/plain": [
       "Pclass\n",
       "1    60.2875\n",
       "2    14.2500\n",
       "3     8.0500\n",
       "Name: Fare, dtype: float64"
      ]
     },
     "execution_count": 8,
     "metadata": {},
     "output_type": "execute_result"
    },
    {
     "data": {
      "image/png": "[encoded data removed]",
      "text/plain": [
       "<matplotlib.figure.Figure at 0x109a2ea90>"
      ]
     },
     "metadata": {},
     "output_type": "display_data"
    },
    {
     "data": {
      "image/png": "[encoded data removed]",
      "text/plain": [
       "<matplotlib.figure.Figure at 0x10a50efd0>"
      ]
     },
     "metadata": {},
     "output_type": "display_data"
    }
   ],
   "source": [
    "# Fare - explore/visualize\n",
    "gs3  = gs.GridSpec(1,2)\n",
    "fig = plt.figure(figsize=(15,9)) \n",
    "ax1 = fig.add_subplot(gs2[0:1,0])\n",
    "sns.kdeplot(df_train.Fare, shade=True, ax=ax1)\n",
    "\n",
    "f1 = sns.FacetGrid(df_train, hue='Survived', hue_order=[0,1], aspect=3)\n",
    "f1.map(sns.kdeplot, 'Fare', shade=True)\n",
    "f1.set(xlim=(df_train['Fare'].min(), 100 ))\n",
    "f1.add_legend()\n",
    "\n",
    "print \"Median Passenger Class Fare\"\n",
    "df_train.pivot_table('Fare', columns = 'Pclass', aggfunc = 'median')"
   ]
  },
  {
   "cell_type": "code",
   "execution_count": 9,
   "metadata": {
    "collapsed": false
   },
   "outputs": [
    {
     "name": "stdout",
     "output_type": "stream",
     "text": [
      "Most Frequent Embarkment:  S\n"
     ]
    },
    {
     "data": {
      "text/html": [
       "<div>\n",
       "<table border=\"1\" class=\"dataframe\">\n",
       "  <thead>\n",
       "    <tr style=\"text-align: right;\">\n",
       "      <th></th>\n",
       "      <th>PassengerId</th>\n",
       "      <th>Survived</th>\n",
       "      <th>Pclass</th>\n",
       "      <th>Name</th>\n",
       "      <th>Sex</th>\n",
       "      <th>Age</th>\n",
       "      <th>SibSp</th>\n",
       "      <th>Parch</th>\n",
       "      <th>Ticket</th>\n",
       "      <th>Fare</th>\n",
       "      <th>Cabin</th>\n",
       "      <th>Embarked</th>\n",
       "      <th>Person</th>\n",
       "      <th>Title</th>\n",
       "      <th>FamilySize</th>\n",
       "      <th>Deck</th>\n",
       "    </tr>\n",
       "  </thead>\n",
       "  <tbody>\n",
       "    <tr>\n",
       "      <th>61</th>\n",
       "      <td>62</td>\n",
       "      <td>1</td>\n",
       "      <td>1</td>\n",
       "      <td>Icard, Miss. Amelie</td>\n",
       "      <td>female</td>\n",
       "      <td>38</td>\n",
       "      <td>0</td>\n",
       "      <td>0</td>\n",
       "      <td>113572</td>\n",
       "      <td>80</td>\n",
       "      <td>B28</td>\n",
       "      <td>NaN</td>\n",
       "      <td>female</td>\n",
       "      <td>miss.</td>\n",
       "      <td>Alone</td>\n",
       "      <td>B</td>\n",
       "    </tr>\n",
       "    <tr>\n",
       "      <th>829</th>\n",
       "      <td>830</td>\n",
       "      <td>1</td>\n",
       "      <td>1</td>\n",
       "      <td>Stone, Mrs. George Nelson (Martha Evelyn)</td>\n",
       "      <td>female</td>\n",
       "      <td>62</td>\n",
       "      <td>0</td>\n",
       "      <td>0</td>\n",
       "      <td>113572</td>\n",
       "      <td>80</td>\n",
       "      <td>B28</td>\n",
       "      <td>NaN</td>\n",
       "      <td>female</td>\n",
       "      <td>mrs.</td>\n",
       "      <td>Alone</td>\n",
       "      <td>B</td>\n",
       "    </tr>\n",
       "  </tbody>\n",
       "</table>\n",
       "</div>"
      ],
      "text/plain": [
       "     PassengerId  Survived  Pclass                                       Name  \\\n",
       "61            62         1       1                        Icard, Miss. Amelie   \n",
       "829          830         1       1  Stone, Mrs. George Nelson (Martha Evelyn)   \n",
       "\n",
       "        Sex  Age  SibSp  Parch  Ticket  Fare Cabin Embarked  Person  Title  \\\n",
       "61   female   38      0      0  113572    80   B28      NaN  female  miss.   \n",
       "829  female   62      0      0  113572    80   B28      NaN  female   mrs.   \n",
       "\n",
       "    FamilySize Deck  \n",
       "61       Alone    B  \n",
       "829      Alone    B  "
      ]
     },
     "execution_count": 9,
     "metadata": {},
     "output_type": "execute_result"
    }
   ],
   "source": [
    "# per Titantic Encyclopedia (http://www.encyclopedia-titanica.org/titanic-survivor/amelia-icard.html)\n",
    "# mark as 'S', this just so happens to align with the 'mode' of embarked\n",
    "print \"Most Frequent Embarkment: \", df_train.Embarked.mode().values[0]\n",
    "df_train[df_train.Embarked.isnull()]"
   ]
  },
  {
   "cell_type": "code",
   "execution_count": 10,
   "metadata": {
    "collapsed": false
   },
   "outputs": [
    {
     "name": "stdout",
     "output_type": "stream",
     "text": [
      "Numerical Mapping Correlation:\n"
     ]
    },
    {
     "name": "stderr",
     "output_type": "stream",
     "text": [
      "/Users/akamlani/anaconda/lib/python2.7/site-packages/numpy/lib/arraysetops.py:198: FutureWarning: numpy not_equal will not check object identity in the future. The comparison did not return the same result as suggested by the identity (`is`)) and will change.\n",
      "  flag = np.concatenate(([True], aux[1:] != aux[:-1]))\n"
     ]
    },
    {
     "data": {
      "text/html": [
       "<div>\n",
       "<table border=\"1\" class=\"dataframe\">\n",
       "  <thead>\n",
       "    <tr style=\"text-align: right;\">\n",
       "      <th></th>\n",
       "      <th>PassengerId</th>\n",
       "      <th>Survived</th>\n",
       "      <th>Pclass</th>\n",
       "      <th>Age</th>\n",
       "      <th>SibSp</th>\n",
       "      <th>Parch</th>\n",
       "      <th>Fare</th>\n",
       "      <th>Embarked</th>\n",
       "      <th>Person</th>\n",
       "      <th>Title</th>\n",
       "      <th>FamilySize</th>\n",
       "      <th>Deck</th>\n",
       "    </tr>\n",
       "  </thead>\n",
       "  <tbody>\n",
       "    <tr>\n",
       "      <th>Survived</th>\n",
       "      <td>-0.005007</td>\n",
       "      <td>1</td>\n",
       "      <td>-0.338481</td>\n",
       "      <td>-0.077221</td>\n",
       "      <td>-0.035322</td>\n",
       "      <td>0.081629</td>\n",
       "      <td>0.257307</td>\n",
       "      <td>-0.176509</td>\n",
       "      <td>-0.472637</td>\n",
       "      <td>-0.193635</td>\n",
       "      <td>0.203367</td>\n",
       "      <td>-0.302855</td>\n",
       "    </tr>\n",
       "  </tbody>\n",
       "</table>\n",
       "</div>"
      ],
      "text/plain": [
       "          PassengerId  Survived    Pclass       Age     SibSp     Parch  \\\n",
       "Survived    -0.005007         1 -0.338481 -0.077221 -0.035322  0.081629   \n",
       "\n",
       "              Fare  Embarked    Person     Title  FamilySize      Deck  \n",
       "Survived  0.257307 -0.176509 -0.472637 -0.193635    0.203367 -0.302855  "
      ]
     },
     "metadata": {},
     "output_type": "display_data"
    },
    {
     "name": "stdout",
     "output_type": "stream",
     "text": [
      "Categorical Mapping Correlation:\n"
     ]
    },
    {
     "data": {
      "text/html": [
       "<div>\n",
       "<table border=\"1\" class=\"dataframe\">\n",
       "  <thead>\n",
       "    <tr style=\"text-align: right;\">\n",
       "      <th></th>\n",
       "      <th>Title_capt.</th>\n",
       "      <th>Title_col.</th>\n",
       "      <th>Title_don.</th>\n",
       "      <th>Title_dr.</th>\n",
       "      <th>Title_jonkheer.</th>\n",
       "      <th>Title_lady.</th>\n",
       "      <th>Title_major.</th>\n",
       "      <th>Title_master.</th>\n",
       "      <th>Title_miss.</th>\n",
       "      <th>Title_mlle.</th>\n",
       "      <th>Title_mme.</th>\n",
       "      <th>Title_mr.</th>\n",
       "      <th>Title_mrs.</th>\n",
       "      <th>Title_ms.</th>\n",
       "      <th>Title_rev.</th>\n",
       "      <th>Title_sir.</th>\n",
       "      <th>Title_the countess.</th>\n",
       "      <th>Person_child</th>\n",
       "      <th>Person_female</th>\n",
       "      <th>Person_male</th>\n",
       "      <th>FamilySize_Alone</th>\n",
       "      <th>FamilySize_WithFamily</th>\n",
       "      <th>Deck_A</th>\n",
       "      <th>Deck_B</th>\n",
       "      <th>Deck_C</th>\n",
       "      <th>Deck_D</th>\n",
       "      <th>Deck_E</th>\n",
       "      <th>Deck_F</th>\n",
       "      <th>Deck_G</th>\n",
       "      <th>Deck_T</th>\n",
       "      <th>Deck_U</th>\n",
       "      <th>Embarked_C</th>\n",
       "      <th>Embarked_Q</th>\n",
       "      <th>Embarked_S</th>\n",
       "      <th>PassengerId</th>\n",
       "      <th>Survived</th>\n",
       "      <th>Pclass</th>\n",
       "      <th>Age</th>\n",
       "      <th>SibSp</th>\n",
       "      <th>Parch</th>\n",
       "      <th>Fare</th>\n",
       "    </tr>\n",
       "  </thead>\n",
       "  <tbody>\n",
       "    <tr>\n",
       "      <th>Survived</th>\n",
       "      <td>-0.026456</td>\n",
       "      <td>0.011329</td>\n",
       "      <td>-0.026456</td>\n",
       "      <td>0.008185</td>\n",
       "      <td>-0.026456</td>\n",
       "      <td>0.04247</td>\n",
       "      <td>0.011329</td>\n",
       "      <td>0.085221</td>\n",
       "      <td>0.327093</td>\n",
       "      <td>0.060095</td>\n",
       "      <td>0.04247</td>\n",
       "      <td>-0.549199</td>\n",
       "      <td>0.33904</td>\n",
       "      <td>0.04247</td>\n",
       "      <td>-0.064988</td>\n",
       "      <td>0.04247</td>\n",
       "      <td>0.04247</td>\n",
       "      <td>0.136107</td>\n",
       "      <td>0.506562</td>\n",
       "      <td>-0.55708</td>\n",
       "      <td>-0.203367</td>\n",
       "      <td>0.203367</td>\n",
       "      <td>0.022287</td>\n",
       "      <td>0.175095</td>\n",
       "      <td>0.114652</td>\n",
       "      <td>0.150716</td>\n",
       "      <td>0.150716</td>\n",
       "      <td>0.081827</td>\n",
       "      <td>-0.017955</td>\n",
       "      <td>-0.026456</td>\n",
       "      <td>-0.316912</td>\n",
       "      <td>0.16824</td>\n",
       "      <td>0.00365</td>\n",
       "      <td>-0.15566</td>\n",
       "      <td>-0.005007</td>\n",
       "      <td>1</td>\n",
       "      <td>-0.338481</td>\n",
       "      <td>-0.077221</td>\n",
       "      <td>-0.035322</td>\n",
       "      <td>0.081629</td>\n",
       "      <td>0.257307</td>\n",
       "    </tr>\n",
       "  </tbody>\n",
       "</table>\n",
       "</div>"
      ],
      "text/plain": [
       "          Title_capt.  Title_col.  Title_don.  Title_dr.  Title_jonkheer.  \\\n",
       "Survived    -0.026456    0.011329   -0.026456   0.008185        -0.026456   \n",
       "\n",
       "          Title_lady.  Title_major.  Title_master.  Title_miss.  Title_mlle.  \\\n",
       "Survived      0.04247      0.011329       0.085221     0.327093     0.060095   \n",
       "\n",
       "          Title_mme.  Title_mr.  Title_mrs.  Title_ms.  Title_rev.  \\\n",
       "Survived     0.04247  -0.549199     0.33904    0.04247   -0.064988   \n",
       "\n",
       "          Title_sir.  Title_the countess.  Person_child  Person_female  \\\n",
       "Survived     0.04247              0.04247      0.136107       0.506562   \n",
       "\n",
       "          Person_male  FamilySize_Alone  FamilySize_WithFamily    Deck_A  \\\n",
       "Survived     -0.55708         -0.203367               0.203367  0.022287   \n",
       "\n",
       "            Deck_B    Deck_C    Deck_D    Deck_E    Deck_F    Deck_G  \\\n",
       "Survived  0.175095  0.114652  0.150716  0.150716  0.081827 -0.017955   \n",
       "\n",
       "            Deck_T    Deck_U  Embarked_C  Embarked_Q  Embarked_S  PassengerId  \\\n",
       "Survived -0.026456 -0.316912     0.16824     0.00365    -0.15566    -0.005007   \n",
       "\n",
       "          Survived    Pclass       Age     SibSp     Parch      Fare  \n",
       "Survived         1 -0.338481 -0.077221 -0.035322  0.081629  0.257307  "
      ]
     },
     "metadata": {},
     "output_type": "display_data"
    }
   ],
   "source": [
    "# feature correlation with Survived\n",
    "# convert literal feature values to numerical feature values\n",
    "df_train_mappednums = map_features(df_train)  \n",
    "df_train_mappedcats = map_features_dummies(df_train)\n",
    "# correlation of features with target ('Survived') before imputation\n",
    "print \"Numerical Mapping Correlation:\"\n",
    "display(pd.DataFrame(df_train_mappednums.corr().Survived).T)\n",
    "print \"Categorical Mapping Correlation:\"\n",
    "display(pd.DataFrame(df_train_mappedcats.corr().Survived).T)"
   ]
  },
  {
   "cell_type": "markdown",
   "metadata": {},
   "source": [
    "#### Analysis of Feature Correlation w/Survived\n",
    "* Numerical Mapping\n",
    "    * Fare, FamilySize\n",
    "* Categorical Mapping (Binary Dummies)\n",
    "    * Females, Children, FamilySize > 1, Decks A/B, Embarkment 'C', Title Mrs./Miss., Fare\n",
    "* Further correlation can be used such that features most correlated with one another are dropped"
   ]
  },
  {
   "cell_type": "markdown",
   "metadata": {},
   "source": [
    "## More Feature Engineering (imputation)"
   ]
  },
  {
   "cell_type": "code",
   "execution_count": 11,
   "metadata": {
    "collapsed": false
   },
   "outputs": [
    {
     "name": "stderr",
     "output_type": "stream",
     "text": [
      "/Users/akamlani/anaconda/lib/python2.7/site-packages/pandas/core/index.py:805: FutureWarning: scalar indexers for index type Int64Index should be integers and not floating point\n",
      "  type(self).__name__),FutureWarning)\n"
     ]
    },
    {
     "data": {
      "text/html": [
       "<div>\n",
       "<table border=\"1\" class=\"dataframe\">\n",
       "  <thead>\n",
       "    <tr style=\"text-align: right;\">\n",
       "      <th></th>\n",
       "      <th>PassengerId</th>\n",
       "      <th>Survived</th>\n",
       "      <th>Pclass</th>\n",
       "      <th>Name</th>\n",
       "      <th>Sex</th>\n",
       "      <th>Age</th>\n",
       "      <th>SibSp</th>\n",
       "      <th>Parch</th>\n",
       "      <th>Ticket</th>\n",
       "      <th>Fare</th>\n",
       "      <th>Cabin</th>\n",
       "      <th>Embarked</th>\n",
       "      <th>Person</th>\n",
       "      <th>Title</th>\n",
       "      <th>FamilySize</th>\n",
       "      <th>Deck</th>\n",
       "    </tr>\n",
       "  </thead>\n",
       "  <tbody>\n",
       "    <tr>\n",
       "      <th>0</th>\n",
       "      <td>1</td>\n",
       "      <td>0</td>\n",
       "      <td>3</td>\n",
       "      <td>Braund, Mr. Owen Harris</td>\n",
       "      <td>male</td>\n",
       "      <td>22</td>\n",
       "      <td>1</td>\n",
       "      <td>0</td>\n",
       "      <td>A/5 21171</td>\n",
       "      <td>7.2500</td>\n",
       "      <td>NaN</td>\n",
       "      <td>S</td>\n",
       "      <td>male</td>\n",
       "      <td>mr.</td>\n",
       "      <td>WithFamily</td>\n",
       "      <td>U</td>\n",
       "    </tr>\n",
       "    <tr>\n",
       "      <th>1</th>\n",
       "      <td>2</td>\n",
       "      <td>1</td>\n",
       "      <td>1</td>\n",
       "      <td>Cumings, Mrs. John Bradley (Florence Briggs Th...</td>\n",
       "      <td>female</td>\n",
       "      <td>38</td>\n",
       "      <td>1</td>\n",
       "      <td>0</td>\n",
       "      <td>PC 17599</td>\n",
       "      <td>71.2833</td>\n",
       "      <td>C85</td>\n",
       "      <td>C</td>\n",
       "      <td>female</td>\n",
       "      <td>mrs.</td>\n",
       "      <td>WithFamily</td>\n",
       "      <td>C</td>\n",
       "    </tr>\n",
       "    <tr>\n",
       "      <th>2</th>\n",
       "      <td>3</td>\n",
       "      <td>1</td>\n",
       "      <td>3</td>\n",
       "      <td>Heikkinen, Miss. Laina</td>\n",
       "      <td>female</td>\n",
       "      <td>26</td>\n",
       "      <td>0</td>\n",
       "      <td>0</td>\n",
       "      <td>STON/O2. 3101282</td>\n",
       "      <td>7.9250</td>\n",
       "      <td>NaN</td>\n",
       "      <td>S</td>\n",
       "      <td>female</td>\n",
       "      <td>miss.</td>\n",
       "      <td>Alone</td>\n",
       "      <td>U</td>\n",
       "    </tr>\n",
       "    <tr>\n",
       "      <th>3</th>\n",
       "      <td>4</td>\n",
       "      <td>1</td>\n",
       "      <td>1</td>\n",
       "      <td>Futrelle, Mrs. Jacques Heath (Lily May Peel)</td>\n",
       "      <td>female</td>\n",
       "      <td>35</td>\n",
       "      <td>1</td>\n",
       "      <td>0</td>\n",
       "      <td>113803</td>\n",
       "      <td>53.1000</td>\n",
       "      <td>C123</td>\n",
       "      <td>S</td>\n",
       "      <td>female</td>\n",
       "      <td>mrs.</td>\n",
       "      <td>WithFamily</td>\n",
       "      <td>C</td>\n",
       "    </tr>\n",
       "    <tr>\n",
       "      <th>4</th>\n",
       "      <td>5</td>\n",
       "      <td>0</td>\n",
       "      <td>3</td>\n",
       "      <td>Allen, Mr. William Henry</td>\n",
       "      <td>male</td>\n",
       "      <td>35</td>\n",
       "      <td>0</td>\n",
       "      <td>0</td>\n",
       "      <td>373450</td>\n",
       "      <td>8.0500</td>\n",
       "      <td>NaN</td>\n",
       "      <td>S</td>\n",
       "      <td>male</td>\n",
       "      <td>mr.</td>\n",
       "      <td>Alone</td>\n",
       "      <td>U</td>\n",
       "    </tr>\n",
       "  </tbody>\n",
       "</table>\n",
       "</div>"
      ],
      "text/plain": [
       "   PassengerId  Survived  Pclass  \\\n",
       "0            1         0       3   \n",
       "1            2         1       1   \n",
       "2            3         1       3   \n",
       "3            4         1       1   \n",
       "4            5         0       3   \n",
       "\n",
       "                                                Name     Sex  Age  SibSp  \\\n",
       "0                            Braund, Mr. Owen Harris    male   22      1   \n",
       "1  Cumings, Mrs. John Bradley (Florence Briggs Th...  female   38      1   \n",
       "2                             Heikkinen, Miss. Laina  female   26      0   \n",
       "3       Futrelle, Mrs. Jacques Heath (Lily May Peel)  female   35      1   \n",
       "4                           Allen, Mr. William Henry    male   35      0   \n",
       "\n",
       "   Parch            Ticket     Fare Cabin Embarked  Person  Title  FamilySize  \\\n",
       "0      0         A/5 21171   7.2500   NaN        S    male    mr.  WithFamily   \n",
       "1      0          PC 17599  71.2833   C85        C  female   mrs.  WithFamily   \n",
       "2      0  STON/O2. 3101282   7.9250   NaN        S  female  miss.       Alone   \n",
       "3      0            113803  53.1000  C123        S  female   mrs.  WithFamily   \n",
       "4      0            373450   8.0500   NaN        S    male    mr.       Alone   \n",
       "\n",
       "  Deck  \n",
       "0    U  \n",
       "1    C  \n",
       "2    U  \n",
       "3    C  \n",
       "4    U  "
      ]
     },
     "execution_count": 11,
     "metadata": {},
     "output_type": "execute_result"
    }
   ],
   "source": [
    "# Further Feature Engineering - Preparation for input into model\n",
    "# TBD: Patterns for Missing Data (Completely at Random, Random, Not Random)\n",
    "def imputate_data(df):\n",
    "    df_i = df.copy()\n",
    "    # '0'/Missing values for Fare - calculate median of Fare per the class, rather than just median overall\n",
    "    med_fare  = df_i.pivot_table('Fare', columns = 'Pclass', aggfunc = 'median')\n",
    "    df_i.Fare = df_i[['Fare', 'Pclass']].apply(lambda x: med_fare[x['Pclass']] if (x['Fare']==0 or pd.isnull(x['Fare'])) else x['Fare'], axis=1)\n",
    "    # Missing values for Age - calculate median\n",
    "    avg_ages = df_i.pivot_table('Age', columns = 'Pclass', aggfunc = 'mean')\n",
    "    med_ages = df_i.pivot_table('Age', columns = 'Pclass', aggfunc = 'median')\n",
    "    df_i.Age = df_i[['Age', 'Pclass']].apply(lambda x: int(med_ages[x['Pclass']]) if pd.isnull(x['Age']) else x['Age'], axis =1)    \n",
    "    # Missing Embarked Values - calculate mode ('S')\n",
    "    df_i.Embarked = df_i.Embarked.fillna('S')\n",
    "    # Missing Cabin Distribution - Marked as Deck_U\n",
    "    #(Valid Values A-G, T=boat cabin, U=Unknown)\n",
    "    \n",
    "    # TBD: Feature Engineering for Ticket\n",
    "    return df_i\n",
    "\n",
    "df_train_fe = imputate_data(df_train)\n",
    "df_train_fe.head()"
   ]
  },
  {
   "cell_type": "code",
   "execution_count": 12,
   "metadata": {
    "collapsed": false
   },
   "outputs": [],
   "source": [
    "# re-execute feature engineering based on imputated data and subset data\n",
    "df_train_mappednums = map_features(df_train_fe) \n",
    "df_train_mappednums = \\\n",
    "df_train_mappednums[['Person', 'Title', 'Age', 'Fare', 'FamilySize', 'Deck', 'Pclass', 'Embarked', 'Survived']]\n",
    "df_train_mappedcats = map_features_dummies(df_train_fe)\n",
    "df_train_mappedcats = \\\n",
    "df_train_mappedcats[['Title_mrs.', 'Title_ms.', 'Person_female', 'Person_child',\n",
    "                     'FamilySize_WithFamily','Pclass', 'Age', 'Fare', 'Survived',\n",
    "                     'Embarked_C','Embarked_Q','Embarked_S'] + train_deck_labels]"
   ]
  },
  {
   "cell_type": "markdown",
   "metadata": {},
   "source": [
    "## PCA (Dimensionality Reduction)"
   ]
  },
  {
   "cell_type": "code",
   "execution_count": 13,
   "metadata": {
    "collapsed": false
   },
   "outputs": [
    {
     "name": "stdout",
     "output_type": "stream",
     "text": [
      "2  components describe  .95 % of the variance\n",
      "2  components describe  .95 % of the variance\n"
     ]
    }
   ],
   "source": [
    "def pca_modeling(X, y):\n",
    "    # Minimum percentage of variance to be described by the resulting transformed components\n",
    "    variance_pct = .95\n",
    "    # Create PCA object\n",
    "    pca = PCA(n_components=variance_pct)\n",
    "    # Transform the initial features\n",
    "    features_transformed = pca.fit_transform(X, y)\n",
    "    # Create a data frame from the PCA'd data\n",
    "    pca_df = pd.DataFrame(features_transformed)\n",
    "    print pca_df.shape[1], \" components describe \", str(variance_pct)[1:], \"% of the variance\"\n",
    "    \n",
    "pca_modeling(df_train_mappednums.drop(['Survived'], axis=1), df_train_mappednums['Survived'])\n",
    "pca_modeling(df_train_mappedcats.drop(['Survived'], axis=1), df_train_mappedcats['Survived'])"
   ]
  },
  {
   "cell_type": "markdown",
   "metadata": {},
   "source": [
    "## Logistic Regression Model"
   ]
  },
  {
   "cell_type": "code",
   "execution_count": 14,
   "metadata": {
    "collapsed": false
   },
   "outputs": [
    {
     "name": "stdout",
     "output_type": "stream",
     "text": [
      "Cross-Validation Numeric Model: 0.769887640449\n",
      "Cross-Validation Categorical Model: 0.82038701623\n"
     ]
    },
    {
     "data": {
      "image/png": "[encoded data removed]",
      "text/plain": [
       "<matplotlib.figure.Figure at 0x10a2e9350>"
      ]
     },
     "metadata": {},
     "output_type": "display_data"
    }
   ],
   "source": [
    "# determine the feature importance and cross-validation based on the two models\n",
    "gs4  = gs.GridSpec(1,2)\n",
    "fig = plt.figure(figsize=(15,5))\n",
    "ax1 = fig.add_subplot(gs4[0:1,0])\n",
    "ax2 = fig.add_subplot(gs4[0:1,1])\n",
    "\n",
    "# cross validation\n",
    "def cross_validate(X, y, classifier, k_fold):\n",
    "    # derive a set of (random) training and testing indices\n",
    "    k_fold_indices = KFold(len(X), n_folds=k_fold,shuffle=True, random_state=0)\n",
    "    k_score_total = 0\n",
    "    # for each training and testing slices run the classifier, and score the results\n",
    "    for train_slice, test_slice in k_fold_indices :\n",
    "        model = classifier(X[ train_slice  ], y[ train_slice  ])\n",
    "        k_score = model.score(X[ test_slice ],y[ test_slice ])\n",
    "        k_score_total += k_score\n",
    "    # return the average accuracy\n",
    "    return k_score_total/k_fold\n",
    "\n",
    "def plot_feature_importance(features, target, title_str, ax):\n",
    "    #x = np.arange(len(features.columns))\n",
    "    model_lr = LogisticRegression(C=1).fit(features, target)\n",
    "    coefs = pd.Series(model_lr.coef_.ravel(), index = features.columns)\n",
    "    coefs.sort()\n",
    "    coefs.plot(kind=\"bar\", ax=ax)\n",
    "    ax.set_title(title_str)\n",
    "    \n",
    "features = df_train_mappednums.drop(['Survived'], axis=1)\n",
    "target = df_train_mappednums['Survived']\n",
    "plot_feature_importance(features, target, 'Numeric Model Feature Importance', ax1)    \n",
    "cv = cross_validate(features.values, target.values, LogisticRegression(C=1).fit, 10)    \n",
    "print \"Cross-Validation Numeric Model: {0}\".format(cv) \n",
    "\n",
    "features = df_train_mappedcats.drop(['Survived'], axis=1)\n",
    "target = df_train_mappedcats['Survived']\n",
    "plot_feature_importance(features, target, 'Categorical (Dummies) Feature Importance', ax2) \n",
    "cv = cross_validate(features.values, target.values, LogisticRegression(C=1).fit, 10)   \n",
    "print \"Cross-Validation Categorical Model: {0}\".format(cv) \n",
    "\n",
    "# TBD: Further Analysis with normalizing the data (return (df - df.mean())/df.std())\n",
    "# cv lower K = cheaper, less variance, more bias\n",
    "# cv higher K = more expensive, more variance, and lower bias"
   ]
  },
  {
   "cell_type": "markdown",
   "metadata": {},
   "source": [
    "#### Feature Importance + Cross-Validation Analysis\n",
    "* The following Features seem do be most indicative with 'Survived': \n",
    "    * Title_mrs., Person_female, Person_child, Embarked_C, Deck_E\n",
    "* We will move forward using the categorical (binary get_dummies) model, rather than a numeric, as the numeric is misleading, putting false importance on some categorical features.  It also has an improved cross-validation (cv) score.\n",
    "* As noted with PCA, ideally the input features could be minimally transformed to 2 attributes."
   ]
  },
  {
   "cell_type": "code",
   "execution_count": 15,
   "metadata": {
    "collapsed": false
   },
   "outputs": [
    {
     "name": "stdout",
     "output_type": "stream",
     "text": [
      "CV Score: 0.82038701623\n",
      "{'C': 1, 'verbose': 0, 'intercept_scaling': 1, 'fit_intercept': True, 'max_iter': 100, 'penalty': 'l2', 'multi_class': 'ovr', 'random_state': None, 'dual': False, 'tol': 0.0001, 'solver': 'liblinear', 'class_weight': None}\n"
     ]
    }
   ],
   "source": [
    "# HyperParameter Tuning Checks\n",
    "param_grid = {'C': [0.001, 0.01, 0.1, 1, 10, 100, 1000] }\n",
    "gsearch = grid_search.GridSearchCV(LogisticRegression(), param_grid)\n",
    "gsearch.fit(features, target)\n",
    "print \"CV Score:\", cross_validate(features.values, target.values, gsearch.best_estimator_.fit, 10) \n",
    "print gsearch.best_estimator_.get_params()"
   ]
  },
  {
   "cell_type": "code",
   "execution_count": 16,
   "metadata": {
    "collapsed": false
   },
   "outputs": [
    {
     "name": "stdout",
     "output_type": "stream",
     "text": [
      "Prediction Evaluation Score: 0.793846153846\n"
     ]
    }
   ],
   "source": [
    "# evaluate prediction (based on training model)\n",
    "gsearch.best_estimator_.fit(features, target)\n",
    "yhat = gsearch.best_estimator_.predict(features)\n",
    "print \"Prediction Evaluation Score:\", metrics.precision_score(target, yhat) "
   ]
  },
  {
   "cell_type": "code",
   "execution_count": 17,
   "metadata": {
    "collapsed": false
   },
   "outputs": [
    {
     "data": {
      "text/plain": [
       "0.79384615384615387"
      ]
     },
     "execution_count": 17,
     "metadata": {},
     "output_type": "execute_result"
    }
   ],
   "source": [
    "# probability estimates (returns [n_samples, n_classes])\n",
    "# Look at P(y=1) (target_predicted_proba[:,1])\n",
    "target_predicted_proba = gsearch.best_estimator_.predict_proba(features)\n",
    "proba = pd.DataFrame(target_predicted_proba[:,1])\n",
    "proba['class_probability'] = proba[0].apply(lambda x:0 if x<.5 else 1)\n",
    "metrics.precision_score(target, proba['class_probability']) "
   ]
  },
  {
   "cell_type": "code",
   "execution_count": 18,
   "metadata": {
    "collapsed": false
   },
   "outputs": [
    {
     "name": "stdout",
     "output_type": "stream",
     "text": [
      "Eval based on Test Split from Training data: MSE=0.178770949721, RMSE=0.422813138065\n",
      "Eval Accuracy Score=0.821229050279, AUC=0.878764478764\n",
      "Classification Report:\n",
      "             precision    recall  f1-score   support\n",
      "\n",
      "    class 0       0.85      0.85      0.85       105\n",
      "    class 1       0.78      0.78      0.78        74\n",
      "\n",
      "avg / total       0.82      0.82      0.82       179\n",
      "\n"
     ]
    },
    {
     "data": {
      "text/plain": [
       "<matplotlib.text.Text at 0x10d859210>"
      ]
     },
     "execution_count": 18,
     "metadata": {},
     "output_type": "execute_result"
    },
    {
     "data": {
      "image/png": "[encoded data removed]",
      "text/plain": [
       "<matplotlib.figure.Figure at 0x10a2e9190>"
      ]
     },
     "metadata": {},
     "output_type": "display_data"
    }
   ],
   "source": [
    "# ROC, AUC w/split based on training/test split model data\n",
    "gs5  = gs.GridSpec(1,2)\n",
    "fig = plt.figure(figsize=(15,5))\n",
    "ax1 = fig.add_subplot(gs5[0:1,0])\n",
    "ax2 = fig.add_subplot(gs5[0:1,1])\n",
    "\n",
    "def plot_roc_curve(target_test, target_predicted_proba, ax):\n",
    "    fpr, tpr, thresholds = roc_curve(target_test, target_predicted_proba[:, 1])\n",
    "    roc_auc = auc(fpr, tpr)\n",
    "    # Plot ROC curve\n",
    "    ax.plot(fpr, tpr, label='ROC curve (area = %0.3f)' % roc_auc)\n",
    "    ax.plot([0, 1], [0, 1], 'k--')  # random predictions curve\n",
    "    ax.set_xlim([0.0, 1.0])\n",
    "    ax.set_ylim([0.0, 1.0])\n",
    "    ax.set_xlabel('False Positive Rate or (1 - Specifity)')\n",
    "    ax.set_ylabel('True Positive Rate or (Sensitivity)')\n",
    "    ax.set_title('Receiver Operating Characteristic')\n",
    "    ax.legend(loc=\"lower right\")\n",
    "    return fpr, tpr, thresholds\n",
    "\n",
    "# using classic 80/20 split model  \n",
    "X_train, X_test, y_train, y_test = train_test_split(features, target, train_size=0.8)\n",
    "gsearch.best_estimator_.fit(X_train, y_train)\n",
    "yhat = gsearch.best_estimator_.predict(X_test)\n",
    "target_predicted_proba = gsearch.best_estimator_.predict_proba(X_test)\n",
    "fpr, tpr, thresholds = plot_roc_curve(y_test, target_predicted_proba, ax1)\n",
    "MSE = eval_measures.mse(yhat, y_test, axis=0)    \n",
    "RMSE = eval_measures.rmse(yhat, y_test, axis=0)\n",
    "print \"Eval based on Test Split from Training data: MSE={0}, RMSE={1}\".format(MSE,RMSE)\n",
    "accuracy_score = metrics.accuracy_score(y_test, yhat)\n",
    "auc_score = metrics.roc_auc_score(y_test, target_predicted_proba[:, 1])\n",
    "print \"Eval Accuracy Score={0}, AUC={1}\".format(accuracy_score, auc_score)\n",
    "\n",
    "#Confusion Matrix = {TPR, FPR, FNR, TNR}\n",
    "#pd.crosstab(y_test, yhat, rownames=['Actual'], colnames=['Predicted'])\n",
    "print \"Classification Report:\\n\",(metrics.classification_report(y_test, yhat, target_names=['class 0', 'class 1']))\n",
    "cm = metrics.confusion_matrix(y_test, yhat)\n",
    "sns.heatmap(cm, annot=True, fmt=\"d\", ax=ax2)\n",
    "ax2.set_ylabel(\"Actual\")\n",
    "ax2.set_xlabel(\"Predicted\")\n",
    "ax2.set_title(\"Confusion Matrix\")"
   ]
  },
  {
   "cell_type": "code",
   "execution_count": 19,
   "metadata": {
    "collapsed": false
   },
   "outputs": [],
   "source": [
    "# Use model to evaulate given test data\n",
    "df_test_fe = imputate_data(df_test)\n",
    "df_test_mappedcats = map_features_dummies(df_test_fe)\n",
    "features = \\\n",
    "df_test_mappedcats[['Title_mrs.', 'Title_ms.', 'Person_female', 'Person_child',\n",
    "                    'FamilySize_WithFamily','Pclass', 'Age', 'Fare',\n",
    "                    'Embarked_C','Embarked_Q','Embarked_S'] + test_deck_labels]\n",
    "diff_cols = list(set(train_deck_labels) - set(test_deck_labels))[0]\n",
    "features.is_copy = False\n",
    "features.loc[:, diff_cols] = 0\n",
    "# Model Analysis on feature engineered test data\n",
    "yhat = gsearch.best_estimator_.predict(features.values)\n",
    "results = pd.DataFrame(df_test_mappedcats['PassengerId'])\n",
    "results['Survived'] = yhat\n",
    "results.to_csv('titanic_results.csv', sep = ',', index = None)"
   ]
  },
  {
   "cell_type": "code",
   "execution_count": 20,
   "metadata": {
    "collapsed": true
   },
   "outputs": [],
   "source": [
    "# TBD: Review Thresholds\n",
    "# Modify Threshold from 0.50 to 0.58\n",
    "target_predicted_proba = gsearch.best_estimator_.predict_proba(features)\n",
    "proba = pd.DataFrame(target_predicted_proba[:,1])\n",
    "proba['class_0_at_58'] = proba[0].apply(lambda x:0 if x<.58 else 1)\n",
    "results = pd.DataFrame(df_test_mappedcats['PassengerId'])\n",
    "results['Survived'] = proba['class_0_at_58']\n",
    "results.to_csv('titanic_results_with_threshold.csv', sep = ',', index = None)"
   ]
  }
 ],
 "metadata": {
  "kernelspec": {
   "display_name": "Python 2",
   "language": "python",
   "name": "python2"
  },
  "language_info": {
   "codemirror_mode": {
    "name": "ipython",
    "version": 2
   },
   "file_extension": ".py",
   "mimetype": "text/x-python",
   "name": "python",
   "nbconvert_exporter": "python",
   "pygments_lexer": "ipython2",
   "version": "2.7.10"
  }
 },
 "nbformat": 4,
 "nbformat_minor": 0
}
